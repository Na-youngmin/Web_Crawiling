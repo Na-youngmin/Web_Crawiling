{
 "cells": [
  {
   "cell_type": "code",
   "execution_count": 3,
   "id": "f7a0de03",
   "metadata": {},
   "outputs": [
    {
     "name": "stdout",
     "output_type": "stream",
     "text": [
      "검색어를 입력하세요: 블랙핑크\n",
      "1:그룹 블랙핑크(BLACKPINK)가 기네스 세계 신기록을 추가하며 압도적 글로벌 위상을 다시금 증명했다. YG 엔터테인먼트는 11일 블랙핑크가 ‘전 세계 걸그룹 중 스포티파이에서 가장 많이 스트리밍된 아티스트’로...\n",
      "2:방탄소년단, 블랙핑크 등 국내 스타들 노래를 들을 수 있는 세계 최대 음원 플랫폼 스포티파이가 주목된다. 올해 1분기 바닥을 시작으로 상승세를 보일 것이란 전망에서다. 팟캐스트 투자 효율화, 대규모 인력 감축에...\n",
      "3:'각양각색 패션' 그룹 블랙핑크가 각양각색 패션으로 시선을 사로 잡았다. 블랙핑크가 10일 오후 'BLACKPINK WORLD TOUR BORN PINK' 일정 참석차 자카르타로 출국했다. 이날 리사, 로제, 지수는 각각 매력을 살린 패션을...\n",
      "4:이어 선배 아티스트 블랙핑크 로제의 'Gone'을 커버하는 미션을 받았고 마치 서로의 마음을 이미 알고 있다는 듯 순조롭게 파트를 분배하고 연습에 돌입했다. 완성도를 높이기 위한 연습이 계속되는 가운데, 갑작스러운...\n"
     ]
    }
   ],
   "source": [
    "from bs4 import BeautifulSoup\n",
    "import pandas as pd\n",
    "import requests\n",
    "\n",
    "base_url = 'https://search.naver.com/search.naver?where=nexearch&sm=top_hty&fbm=0&ie=utf8&query='\n",
    "keyword = input('검색어를 입력하세요: ')\n",
    "search_url = base_url + keyword\n",
    "r = requests.get(search_url)\n",
    "soup = BeautifulSoup(r.text, 'html.parser')\n",
    "items = soup.select('.api_txt_lines.dsc_txt_wrap')\n",
    "for e, item in enumerate(items,1):\n",
    "    print(f'{e}:{item.text}')"
   ]
  },
  {
   "cell_type": "code",
   "execution_count": null,
   "id": "68837cb1",
   "metadata": {},
   "outputs": [],
   "source": [
    "//*[@id=\"main_pack\"]/div[2]/div[2]/div[2]/div/div[2]/div[6]/ul/li[1]/div[2]/div/span[2]"
   ]
  },
  {
   "cell_type": "code",
   "execution_count": 1,
   "id": "39c8876a",
   "metadata": {},
   "outputs": [
    {
     "name": "stdout",
     "output_type": "stream",
     "text": [
      "검색어를 입력하세요: ㅇㄹ\\\n",
      "1: \n",
      "2: \n"
     ]
    }
   ],
   "source": [
    "from bs4 import BeautifulSoup\n",
    "import pandas as pd\n",
    "import requests\n",
    "\n",
    "base_url = 'https://search.naver.com/search.naver?where=nexearch&sm=top_hty&fbm=0&ie=utf8&query='\n",
    "keyword = input('검색어를 입력하세요: ')\n",
    "search_url = base_url + keyword\n",
    "r = requests.get('https://search.naver.com/search.naver?where=nexearch&sm=tab_etc&mra=bkEw&pkid=68&os=29022176&qvt=0&query=%EB%8D%94%20%ED%8D%BC%EC%8A%A4%ED%8A%B8%20%EC%8A%AC%EB%9E%A8%EB%8D%A9%ED%81%AC%20%ED%8F%89%EC%A0%90')\n",
    "soup = BeautifulSoup(r.text, 'html.parser')\n",
    "items = soup.select('.area_card_outer._item_wrapper')\n",
    "for e, item in enumerate(items,1):\n",
    "    print(f'{e}:{item.text}')"
   ]
  },
  {
   "cell_type": "code",
   "execution_count": 20,
   "id": "b9d69887",
   "metadata": {},
   "outputs": [
    {
     "name": "stdout",
     "output_type": "stream",
     "text": [
      "연필 스케치로 하나하나 완성되어 화면 밖으로 걸어 나오는 북산고와 산왕고 농구부원들의 모습을 마주할 때부터, 환호성은 이미 준비되어 있다. 아예 새로운 에피소드를 만드는 대신 원작의 정수와도 같은 경기를 다시 펼쳐내 ‘no.1 가드' 송태섭의 숨겨진 사연을 더하는 전략은 원작 만화의 그것처럼 빼어나다. 이 영화 속 농구 코트는 엄청난 속도감보다 정지된 순간의 정적과 그 안의 각자의 사유가 더 탁월하게 존재하는 공간이다. 그 안에서 추억은 거들 뿐. 20세기 명작의 영광의 시대가 ‘더 퍼스트'로 다시 새롭게 이어질 시간이다.\n"
     ]
    }
   ],
   "source": [
    "import requests\n",
    "from bs4 import BeautifulSoup\n",
    "\n",
    "url = \"https://search.naver.com/search.naver?where=nexearch&sm=tab_etc&mra=bkEw&pkid=68&os=29022176&qvt=0&query=%EB%8D%94%20%ED%8D%BC%EC%8A%A4%ED%8A%B8%20%EC%8A%AC%EB%9E%A8%EB%8D%A9%ED%81%AC%20%ED%8F%89%EC%A0%90\"\n",
    "res = requests.get(url)\n",
    "\n",
    "soup = BeautifulSoup(res.text, 'html.parser')\n",
    "b_tag = soup.find('span', {'class': 'desc _text'})\n",
    "\n",
    "if b_tag:\n",
    "    result = b_tag.text.strip()\n",
    "    print(result)\n",
    "else:\n",
    "    print(\"b 태그를 찾을 수 없습니다.\")\n"
   ]
  },
  {
   "cell_type": "code",
   "execution_count": 21,
   "id": "da98afd7",
   "metadata": {},
   "outputs": [
    {
     "name": "stdout",
     "output_type": "stream",
     "text": [
      "해당 요소를 찾을 수 없습니다.\n"
     ]
    }
   ],
   "source": [
    "import requests\n",
    "from lxml import html\n",
    "\n",
    "url = \"https://search.naver.com/search.naver?where=nexearch&sm=tab_etc&mra=bkEw&pkid=68&os=29022176&qvt=0&query=%EB%8D%94%20%ED%8D%BC%EC%8A%A4%ED%8A%B8%20%EC%8A%AC%EB%9E%A8%EB%8D%A9%ED%81%AC%20%ED%8F%89%EC%A0%90\"\n",
    "res = requests.get(url)\n",
    "\n",
    "tree = html.fromstring(res.content)\n",
    "element = tree.xpath('//*[@id=\"main_pack\"]/div[2]/div[2]/div[2]/div/div[2]/div[6]/ul/li[1]/div[2]/div/span[2]')\n",
    "\n",
    "if element:\n",
    "    result = element[0].text.strip()\n",
    "    print(result)\n",
    "else:\n",
    "    print(\"해당 요소를 찾을 수 없습니다.\")\n"
   ]
  },
  {
   "cell_type": "code",
   "execution_count": 23,
   "id": "ca6f180b",
   "metadata": {},
   "outputs": [
    {
     "name": "stdout",
     "output_type": "stream",
     "text": [
      "Collecting konlpy\n",
      "  Using cached konlpy-0.6.0-py2.py3-none-any.whl (19.4 MB)\n",
      "Requirement already satisfied: numpy>=1.6 in /Users/nayoungmin/opt/anaconda3/lib/python3.9/site-packages (from konlpy) (1.21.5)\n",
      "Collecting JPype1>=0.7.0\n",
      "  Downloading JPype1-1.4.1.tar.gz (797 kB)\n",
      "\u001b[2K     \u001b[90m━━━━━━━━━━━━━━━━━━━━━━━━━━━━━━━━━━━━━\u001b[0m \u001b[32m797.9/797.9 kB\u001b[0m \u001b[31m871.1 kB/s\u001b[0m eta \u001b[36m0:00:00\u001b[0m00:01\u001b[0m00:01\u001b[0m\n",
      "\u001b[?25h  Preparing metadata (setup.py) ... \u001b[?25ldone\n",
      "\u001b[?25hRequirement already satisfied: lxml>=4.1.0 in /Users/nayoungmin/opt/anaconda3/lib/python3.9/site-packages (from konlpy) (4.9.1)\n",
      "Requirement already satisfied: packaging in /Users/nayoungmin/opt/anaconda3/lib/python3.9/site-packages (from JPype1>=0.7.0->konlpy) (21.3)\n",
      "Requirement already satisfied: pyparsing!=3.0.5,>=2.0.2 in /Users/nayoungmin/opt/anaconda3/lib/python3.9/site-packages (from packaging->JPype1>=0.7.0->konlpy) (3.0.9)\n",
      "Building wheels for collected packages: JPype1\n",
      "  Building wheel for JPype1 (setup.py) ... \u001b[?25ldone\n",
      "\u001b[?25h  Created wheel for JPype1: filename=JPype1-1.4.1-cp39-cp39-macosx_11_0_arm64.whl size=372780 sha256=50e2916a371e3b08a38013d1d17e8860d37adfdc6af61ccf08e65470f1573bf1\n",
      "  Stored in directory: /Users/nayoungmin/Library/Caches/pip/wheels/2f/b2/30/0a55e776cfe7a6bd019d58f731555570bf7835a2bd6aee4758\n",
      "Successfully built JPype1\n",
      "Installing collected packages: JPype1, konlpy\n",
      "Successfully installed JPype1-1.4.1 konlpy-0.6.0\n",
      "Note: you may need to restart the kernel to use updated packages.\n"
     ]
    }
   ],
   "source": [
    "pip install konlpy"
   ]
  },
  {
   "cell_type": "code",
   "execution_count": 2,
   "id": "ac633cd0",
   "metadata": {},
   "outputs": [],
   "source": [
    "import konlpy"
   ]
  },
  {
   "cell_type": "code",
   "execution_count": null,
   "id": "0745fab0",
   "metadata": {},
   "outputs": [],
   "source": []
  }
 ],
 "metadata": {
  "kernelspec": {
   "display_name": "Python 3 (ipykernel)",
   "language": "python",
   "name": "python3"
  },
  "language_info": {
   "codemirror_mode": {
    "name": "ipython",
    "version": 3
   },
   "file_extension": ".py",
   "mimetype": "text/x-python",
   "name": "python",
   "nbconvert_exporter": "python",
   "pygments_lexer": "ipython3",
   "version": "3.9.12"
  }
 },
 "nbformat": 4,
 "nbformat_minor": 5
}
