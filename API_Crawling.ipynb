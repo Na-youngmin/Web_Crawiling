{
  "nbformat": 4,
  "nbformat_minor": 0,
  "metadata": {
    "colab": {
      "provenance": [],
      "include_colab_link": true
    },
    "kernelspec": {
      "name": "python3",
      "display_name": "Python 3"
    },
    "language_info": {
      "name": "python"
    }
  },
  "cells": [
    {
      "cell_type": "markdown",
      "metadata": {
        "id": "view-in-github",
        "colab_type": "text"
      },
      "source": [
        "<a href=\"https://colab.research.google.com/github/Na-youngmin/Web_Crawiling/blob/main/API_Crawling.ipynb\" target=\"_parent\"><img src=\"https://colab.research.google.com/assets/colab-badge.svg\" alt=\"Open In Colab\"/></a>"
      ]
    },
    {
      "cell_type": "markdown",
      "source": [
        "# API Crawling\n"
      ],
      "metadata": {
        "id": "zz-n8mTVXpdC"
      }
    },
    {
      "cell_type": "code",
      "source": [
        "import requests\n",
        "\n",
        "crtfc_key = \"503ce95352c4cc15b28397b518a37f898969fcf3\"\n",
        "# (각자 발급받은) API 인증 키\n",
        "\n",
        "API_url = \"https://opendart.fss.or.kr/api/company.json\"\n",
        "# API를 요청할 URL\n",
        "\n",
        "corp_code = \"00126380\"\n",
        "# 정보를 조회할 기업의 고유코드\n",
        "# 00126380 = 삼성전자"
      ],
      "metadata": {
        "id": "6bpUpN1uXr6x"
      },
      "execution_count": null,
      "outputs": []
    },
    {
      "cell_type": "code",
      "source": [
        "params = {\"crtfc_key\": crtfc_key,\n",
        "          \"corp_code\": corp_code}\n",
        "# API 요청 인자를 저장"
      ],
      "metadata": {
        "id": "Lw1H7O2vXr84"
      },
      "execution_count": null,
      "outputs": []
    },
    {
      "cell_type": "code",
      "source": [
        "response = requests.get(API_url, params=params)\n",
        "# 실제로 API 를 요청하고 결과를 저장"
      ],
      "metadata": {
        "id": "Rwe65BJiXsBB"
      },
      "execution_count": null,
      "outputs": []
    },
    {
      "cell_type": "code",
      "source": [
        "type(response)"
      ],
      "metadata": {
        "colab": {
          "base_uri": "https://localhost:8080/"
        },
        "id": "YfEMUMNiYv75",
        "outputId": "ae0175d1-bf15-4225-f19c-516932fe4663"
      },
      "execution_count": null,
      "outputs": [
        {
          "output_type": "execute_result",
          "data": {
            "text/plain": [
              "requests.models.Response"
            ]
          },
          "metadata": {},
          "execution_count": 15
        }
      ]
    },
    {
      "cell_type": "code",
      "source": [
        "response.text"
      ],
      "metadata": {
        "colab": {
          "base_uri": "https://localhost:8080/",
          "height": 72
        },
        "id": "EaRRNqBqY9fR",
        "outputId": "435a8d95-7ea9-4caa-ad8d-9c56de43d8fc"
      },
      "execution_count": null,
      "outputs": [
        {
          "output_type": "execute_result",
          "data": {
            "text/plain": [
              "'{\"status\":\"000\",\"message\":\"정상\",\"corp_code\":\"00126380\",\"corp_name\":\"삼성전자(주)\",\"corp_name_eng\":\"SAMSUNG ELECTRONICS CO,.LTD\",\"stock_name\":\"삼성전자\",\"stock_code\":\"005930\",\"ceo_nm\":\"한종희, 경계현\",\"corp_cls\":\"Y\",\"jurir_no\":\"1301110006246\",\"bizr_no\":\"1248100998\",\"adres\":\"경기도 수원시 영통구  삼성로 129 (매탄동)\",\"hm_url\":\"www.samsung.com/sec\",\"ir_url\":\"\",\"phn_no\":\"02-2255-0114\",\"fax_no\":\"031-200-7538\",\"induty_code\":\"264\",\"est_dt\":\"19690113\",\"acc_mt\":\"12\"}'"
            ],
            "application/vnd.google.colaboratory.intrinsic+json": {
              "type": "string"
            }
          },
          "metadata": {},
          "execution_count": 16
        }
      ]
    },
    {
      "cell_type": "code",
      "source": [
        "result = response.json()\n",
        "# API 요청 결과 json 형식 을 딕셔너리로 변환"
      ],
      "metadata": {
        "id": "hX13hzjpY9hX"
      },
      "execution_count": null,
      "outputs": []
    },
    {
      "cell_type": "code",
      "source": [
        "print(result)"
      ],
      "metadata": {
        "colab": {
          "base_uri": "https://localhost:8080/"
        },
        "id": "__l4O76VZFXg",
        "outputId": "d854b4b9-cb9f-4a77-fc12-ec3486c4d62f"
      },
      "execution_count": null,
      "outputs": [
        {
          "output_type": "stream",
          "name": "stdout",
          "text": [
            "{'status': '000', 'message': '정상', 'corp_code': '00126380', 'corp_name': '삼성전자(주)', 'corp_name_eng': 'SAMSUNG ELECTRONICS CO,.LTD', 'stock_name': '삼성전자', 'stock_code': '005930', 'ceo_nm': '한종희, 경계현', 'corp_cls': 'Y', 'jurir_no': '1301110006246', 'bizr_no': '1248100998', 'adres': '경기도 수원시 영통구  삼성로 129 (매탄동)', 'hm_url': 'www.samsung.com/sec', 'ir_url': '', 'phn_no': '02-2255-0114', 'fax_no': '031-200-7538', 'induty_code': '264', 'est_dt': '19690113', 'acc_mt': '12'}\n"
          ]
        }
      ]
    },
    {
      "cell_type": "code",
      "source": [
        "result[\"corp_name\"]"
      ],
      "metadata": {
        "colab": {
          "base_uri": "https://localhost:8080/",
          "height": 35
        },
        "id": "HAc2HTd-ZFZ7",
        "outputId": "4f3275f9-a975-4c43-bc76-ab4984601168"
      },
      "execution_count": null,
      "outputs": [
        {
          "output_type": "execute_result",
          "data": {
            "text/plain": [
              "'삼성전자(주)'"
            ],
            "application/vnd.google.colaboratory.intrinsic+json": {
              "type": "string"
            }
          },
          "metadata": {},
          "execution_count": 22
        }
      ]
    },
    {
      "cell_type": "code",
      "source": [
        "for key, value in result.items():\n",
        "  print(key, \":\", value)"
      ],
      "metadata": {
        "colab": {
          "base_uri": "https://localhost:8080/"
        },
        "id": "2xa__OzmZnhw",
        "outputId": "b778eaee-b4bc-4627-d02e-bcf29af80273"
      },
      "execution_count": null,
      "outputs": [
        {
          "output_type": "stream",
          "name": "stdout",
          "text": [
            "status : 000\n",
            "message : 정상\n",
            "corp_code : 00126380\n",
            "corp_name : 삼성전자(주)\n",
            "corp_name_eng : SAMSUNG ELECTRONICS CO,.LTD\n",
            "stock_name : 삼성전자\n",
            "stock_code : 005930\n",
            "ceo_nm : 한종희, 경계현\n",
            "corp_cls : Y\n",
            "jurir_no : 1301110006246\n",
            "bizr_no : 1248100998\n",
            "adres : 경기도 수원시 영통구  삼성로 129 (매탄동)\n",
            "hm_url : www.samsung.com/sec\n",
            "ir_url : \n",
            "phn_no : 02-2255-0114\n",
            "fax_no : 031-200-7538\n",
            "induty_code : 264\n",
            "est_dt : 19690113\n",
            "acc_mt : 12\n"
          ]
        }
      ]
    },
    {
      "cell_type": "markdown",
      "source": [
        "# 공시정보 조회"
      ],
      "metadata": {
        "id": "59-3TTdgacmJ"
      }
    },
    {
      "cell_type": "code",
      "source": [
        "import requests\n",
        "\n",
        "crtfc_key = \"503ce95352c4cc15b28397b518a37f898969fcf3\"\n",
        "API_url = \"https://opendart.fss.or.kr/api/list.json\"\n",
        "corp_code = \"00126380\"\n",
        "params = {\"crtfc_key\": crtfc_key,\n",
        "          \"corp_code\": corp_code}\n",
        "\n",
        "response = requests.get(API_url, params=params)\n",
        "result = response.json()\n",
        "for key, value in result.items():\n",
        "  print(key, \":\", value)\n"
      ],
      "metadata": {
        "colab": {
          "base_uri": "https://localhost:8080/"
        },
        "id": "sxJXM9HzZnj_",
        "outputId": "43b98a72-518f-4dc8-db2d-23af2cb9d9f8"
      },
      "execution_count": null,
      "outputs": [
        {
          "output_type": "stream",
          "name": "stdout",
          "text": [
            "status : 000\n",
            "message : 정상\n",
            "page_no : 1\n",
            "page_count : 10\n",
            "total_count : 1\n",
            "total_page : 1\n",
            "list : [{'corp_code': '00126380', 'corp_name': '삼성전자', 'stock_code': '005930', 'corp_cls': 'Y', 'report_nm': '기업설명회(IR)개최(안내공시)', 'rcept_no': '20230413800058', 'flr_nm': '삼성전자', 'rcept_dt': '20230413', 'rm': '유'}]\n"
          ]
        }
      ]
    },
    {
      "cell_type": "code",
      "source": [],
      "metadata": {
        "id": "aC6nYgxv0J4u"
      },
      "execution_count": null,
      "outputs": []
    }
  ]
}