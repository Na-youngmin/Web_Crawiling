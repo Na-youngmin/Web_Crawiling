{
  "nbformat": 4,
  "nbformat_minor": 0,
  "metadata": {
    "colab": {
      "provenance": []
    },
    "kernelspec": {
      "name": "python3",
      "display_name": "Python 3"
    },
    "language_info": {
      "name": "python"
    }
  },
  "cells": [
    {
      "cell_type": "markdown",
      "source": [
        "# Case 1"
      ],
      "metadata": {
        "id": "hugK0eR5TFn8"
      }
    },
    {
      "cell_type": "code",
      "source": [
        "import pandas as pd\n",
        "\n",
        "url_kbo = \"https://www.koreabaseball.com/Record/Player/HitterBasic/Basic1.aspx\"\n",
        "# 정보를 가져오려는 웹 페이지의 주소\n",
        "\n",
        "Baseball = pd.read_html(url_kbo)\n",
        "# 결과는 Data Frame 의 List\n",
        "# 해당 페이지에 여러 개의 Table 이 존재할 수도 있기 때문"
      ],
      "metadata": {
        "id": "kbts1aGlRYSb"
      },
      "execution_count": null,
      "outputs": []
    },
    {
      "cell_type": "code",
      "source": [
        "print(len(Baseball))\n",
        "# 몇 개의 데이터 프레임이 만들어졌는지 확인\n",
        "\n",
        "Baseball[0].head(3)\n",
        "# Baseball -> 리스트\n",
        "# Baseball[0] -> 리스트의 첫 번째 원소 -> 데이터프레임\n",
        "# 그렇기 때문에 Baseball[0].head(3)\n",
        "# 수집된 데이터의 첫 세 줄을 출력"
      ],
      "metadata": {
        "colab": {
          "base_uri": "https://localhost:8080/",
          "height": 162
        },
        "id": "sda864zERYfz",
        "outputId": "8fbc8c4a-2b0c-4888-cf2a-b58c926c514a"
      },
      "execution_count": null,
      "outputs": [
        {
          "output_type": "stream",
          "name": "stdout",
          "text": [
            "1\n"
          ]
        },
        {
          "output_type": "execute_result",
          "data": {
            "text/plain": [
              "   순위  선수명   팀명    AVG   G  PA  AB  R   H  2B  3B  HR  TB  RBI  SAC  SF\n",
              "0   1  김민혁   KT  0.480   7  28  25  5  12   0   1   0  14    3    0   0\n",
              "1   2  문성주   LG  0.432  10  47  37  7  16   2   0   0  18    4    0   1\n",
              "2   3  이창진  KIA  0.391   6  28  23  4   9   1   0   0  10    1    0   0"
            ],
            "text/html": [
              "\n",
              "  <div id=\"df-9a5d0551-514c-40bd-953b-62e1486f97cf\">\n",
              "    <div class=\"colab-df-container\">\n",
              "      <div>\n",
              "<style scoped>\n",
              "    .dataframe tbody tr th:only-of-type {\n",
              "        vertical-align: middle;\n",
              "    }\n",
              "\n",
              "    .dataframe tbody tr th {\n",
              "        vertical-align: top;\n",
              "    }\n",
              "\n",
              "    .dataframe thead th {\n",
              "        text-align: right;\n",
              "    }\n",
              "</style>\n",
              "<table border=\"1\" class=\"dataframe\">\n",
              "  <thead>\n",
              "    <tr style=\"text-align: right;\">\n",
              "      <th></th>\n",
              "      <th>순위</th>\n",
              "      <th>선수명</th>\n",
              "      <th>팀명</th>\n",
              "      <th>AVG</th>\n",
              "      <th>G</th>\n",
              "      <th>PA</th>\n",
              "      <th>AB</th>\n",
              "      <th>R</th>\n",
              "      <th>H</th>\n",
              "      <th>2B</th>\n",
              "      <th>3B</th>\n",
              "      <th>HR</th>\n",
              "      <th>TB</th>\n",
              "      <th>RBI</th>\n",
              "      <th>SAC</th>\n",
              "      <th>SF</th>\n",
              "    </tr>\n",
              "  </thead>\n",
              "  <tbody>\n",
              "    <tr>\n",
              "      <th>0</th>\n",
              "      <td>1</td>\n",
              "      <td>김민혁</td>\n",
              "      <td>KT</td>\n",
              "      <td>0.480</td>\n",
              "      <td>7</td>\n",
              "      <td>28</td>\n",
              "      <td>25</td>\n",
              "      <td>5</td>\n",
              "      <td>12</td>\n",
              "      <td>0</td>\n",
              "      <td>1</td>\n",
              "      <td>0</td>\n",
              "      <td>14</td>\n",
              "      <td>3</td>\n",
              "      <td>0</td>\n",
              "      <td>0</td>\n",
              "    </tr>\n",
              "    <tr>\n",
              "      <th>1</th>\n",
              "      <td>2</td>\n",
              "      <td>문성주</td>\n",
              "      <td>LG</td>\n",
              "      <td>0.432</td>\n",
              "      <td>10</td>\n",
              "      <td>47</td>\n",
              "      <td>37</td>\n",
              "      <td>7</td>\n",
              "      <td>16</td>\n",
              "      <td>2</td>\n",
              "      <td>0</td>\n",
              "      <td>0</td>\n",
              "      <td>18</td>\n",
              "      <td>4</td>\n",
              "      <td>0</td>\n",
              "      <td>1</td>\n",
              "    </tr>\n",
              "    <tr>\n",
              "      <th>2</th>\n",
              "      <td>3</td>\n",
              "      <td>이창진</td>\n",
              "      <td>KIA</td>\n",
              "      <td>0.391</td>\n",
              "      <td>6</td>\n",
              "      <td>28</td>\n",
              "      <td>23</td>\n",
              "      <td>4</td>\n",
              "      <td>9</td>\n",
              "      <td>1</td>\n",
              "      <td>0</td>\n",
              "      <td>0</td>\n",
              "      <td>10</td>\n",
              "      <td>1</td>\n",
              "      <td>0</td>\n",
              "      <td>0</td>\n",
              "    </tr>\n",
              "  </tbody>\n",
              "</table>\n",
              "</div>\n",
              "      <button class=\"colab-df-convert\" onclick=\"convertToInteractive('df-9a5d0551-514c-40bd-953b-62e1486f97cf')\"\n",
              "              title=\"Convert this dataframe to an interactive table.\"\n",
              "              style=\"display:none;\">\n",
              "        \n",
              "  <svg xmlns=\"http://www.w3.org/2000/svg\" height=\"24px\"viewBox=\"0 0 24 24\"\n",
              "       width=\"24px\">\n",
              "    <path d=\"M0 0h24v24H0V0z\" fill=\"none\"/>\n",
              "    <path d=\"M18.56 5.44l.94 2.06.94-2.06 2.06-.94-2.06-.94-.94-2.06-.94 2.06-2.06.94zm-11 1L8.5 8.5l.94-2.06 2.06-.94-2.06-.94L8.5 2.5l-.94 2.06-2.06.94zm10 10l.94 2.06.94-2.06 2.06-.94-2.06-.94-.94-2.06-.94 2.06-2.06.94z\"/><path d=\"M17.41 7.96l-1.37-1.37c-.4-.4-.92-.59-1.43-.59-.52 0-1.04.2-1.43.59L10.3 9.45l-7.72 7.72c-.78.78-.78 2.05 0 2.83L4 21.41c.39.39.9.59 1.41.59.51 0 1.02-.2 1.41-.59l7.78-7.78 2.81-2.81c.8-.78.8-2.07 0-2.86zM5.41 20L4 18.59l7.72-7.72 1.47 1.35L5.41 20z\"/>\n",
              "  </svg>\n",
              "      </button>\n",
              "      \n",
              "  <style>\n",
              "    .colab-df-container {\n",
              "      display:flex;\n",
              "      flex-wrap:wrap;\n",
              "      gap: 12px;\n",
              "    }\n",
              "\n",
              "    .colab-df-convert {\n",
              "      background-color: #E8F0FE;\n",
              "      border: none;\n",
              "      border-radius: 50%;\n",
              "      cursor: pointer;\n",
              "      display: none;\n",
              "      fill: #1967D2;\n",
              "      height: 32px;\n",
              "      padding: 0 0 0 0;\n",
              "      width: 32px;\n",
              "    }\n",
              "\n",
              "    .colab-df-convert:hover {\n",
              "      background-color: #E2EBFA;\n",
              "      box-shadow: 0px 1px 2px rgba(60, 64, 67, 0.3), 0px 1px 3px 1px rgba(60, 64, 67, 0.15);\n",
              "      fill: #174EA6;\n",
              "    }\n",
              "\n",
              "    [theme=dark] .colab-df-convert {\n",
              "      background-color: #3B4455;\n",
              "      fill: #D2E3FC;\n",
              "    }\n",
              "\n",
              "    [theme=dark] .colab-df-convert:hover {\n",
              "      background-color: #434B5C;\n",
              "      box-shadow: 0px 1px 3px 1px rgba(0, 0, 0, 0.15);\n",
              "      filter: drop-shadow(0px 1px 2px rgba(0, 0, 0, 0.3));\n",
              "      fill: #FFFFFF;\n",
              "    }\n",
              "  </style>\n",
              "\n",
              "      <script>\n",
              "        const buttonEl =\n",
              "          document.querySelector('#df-9a5d0551-514c-40bd-953b-62e1486f97cf button.colab-df-convert');\n",
              "        buttonEl.style.display =\n",
              "          google.colab.kernel.accessAllowed ? 'block' : 'none';\n",
              "\n",
              "        async function convertToInteractive(key) {\n",
              "          const element = document.querySelector('#df-9a5d0551-514c-40bd-953b-62e1486f97cf');\n",
              "          const dataTable =\n",
              "            await google.colab.kernel.invokeFunction('convertToInteractive',\n",
              "                                                     [key], {});\n",
              "          if (!dataTable) return;\n",
              "\n",
              "          const docLinkHtml = 'Like what you see? Visit the ' +\n",
              "            '<a target=\"_blank\" href=https://colab.research.google.com/notebooks/data_table.ipynb>data table notebook</a>'\n",
              "            + ' to learn more about interactive tables.';\n",
              "          element.innerHTML = '';\n",
              "          dataTable['output_type'] = 'display_data';\n",
              "          await google.colab.output.renderOutput(dataTable, element);\n",
              "          const docLink = document.createElement('div');\n",
              "          docLink.innerHTML = docLinkHtml;\n",
              "          element.appendChild(docLink);\n",
              "        }\n",
              "      </script>\n",
              "    </div>\n",
              "  </div>\n",
              "  "
            ]
          },
          "metadata": {},
          "execution_count": 2
        }
      ]
    },
    {
      "cell_type": "markdown",
      "source": [
        "# Case 1 (예외)"
      ],
      "metadata": {
        "id": "vy9meYoHTHUi"
      }
    },
    {
      "cell_type": "code",
      "source": [
        "url_genie = \"https://www.genie.co.kr/chart/top200?ditc=W&rtm=N\"\n",
        "# 정보를 가져오려는 웹 페이지의 주소\n",
        "\n",
        "headers = {\"referer\":\"https://www.genie.co.kr/\",\n",
        "           \"origin\":\"https://www.genie.co.kr/\",\n",
        "           \"user-agent\":\"Mozilla/5.0 (Windows NT 10.0; Win64; x64) AppleWebKit/537.36 (KHTML, like Gecko) Chrome/111.0.0.0 Safari/537.36\"\n",
        "           }\n",
        "# 브라우저처럼 위장하기 위한 장치\n",
        "# referer 와 origin 은\n",
        "# 정보를 수집하려는 웹 페이지의 주소에 따라 달라짐"
      ],
      "metadata": {
        "id": "5b6WkzZSRYiM"
      },
      "execution_count": null,
      "outputs": []
    },
    {
      "cell_type": "code",
      "source": [
        "import pandas as pd\n",
        "import requests\n",
        "\n",
        "response = requests.get(url_genie, headers=headers)\n",
        "# 이번에는 requests 를 이용해 해당 웹 페이지에 접속\n",
        "# 이 때 , 앞에서 만들어 놓은 장치를 headers 에 전달\n",
        "\n",
        "response.encoding = \"utf-8\"\n",
        "# 웹 페이지에 포함된 한글을 올바르게 처리하기 위해 인코딩 지정"
      ],
      "metadata": {
        "id": "Vy4X36_DHJob"
      },
      "execution_count": null,
      "outputs": []
    },
    {
      "cell_type": "code",
      "source": [
        "type(response)"
      ],
      "metadata": {
        "colab": {
          "base_uri": "https://localhost:8080/"
        },
        "id": "oygL0MmsUU-B",
        "outputId": "9714215f-4c74-4631-81f4-4136e1a94fe9"
      },
      "execution_count": null,
      "outputs": [
        {
          "output_type": "execute_result",
          "data": {
            "text/plain": [
              "requests.models.Response"
            ]
          },
          "metadata": {},
          "execution_count": 5
        }
      ]
    },
    {
      "cell_type": "code",
      "source": [
        "response.status_code\n",
        "# 응답코드: 200 (성공했다는 의미)"
      ],
      "metadata": {
        "colab": {
          "base_uri": "https://localhost:8080/"
        },
        "id": "XjFedLNwUYHq",
        "outputId": "a4c8b166-77fe-4ae3-ec92-58713c167022"
      },
      "execution_count": null,
      "outputs": [
        {
          "output_type": "execute_result",
          "data": {
            "text/plain": [
              "200"
            ]
          },
          "metadata": {},
          "execution_count": 7
        }
      ]
    },
    {
      "cell_type": "code",
      "source": [
        "html = response.text\n",
        "# requests 에서 받아온 HTML 코드를 저장\n",
        "# 이후는 Case 1 과 동일"
      ],
      "metadata": {
        "id": "1rBB1B1TUSQx"
      },
      "execution_count": null,
      "outputs": []
    },
    {
      "cell_type": "code",
      "source": [
        "Genie = pd.read_html(html)\n",
        "\n",
        "print(len(Genie))"
      ],
      "metadata": {
        "colab": {
          "base_uri": "https://localhost:8080/"
        },
        "id": "Tfx3Of11Igpc",
        "outputId": "5041513a-a813-493f-b360-f1b48e49baa8"
      },
      "execution_count": null,
      "outputs": [
        {
          "output_type": "stream",
          "name": "stdout",
          "text": [
            "1\n"
          ]
        }
      ]
    },
    {
      "cell_type": "code",
      "source": [
        "Genie[0].head(3)"
      ],
      "metadata": {
        "id": "sF2x5n_VIgri",
        "colab": {
          "base_uri": "https://localhost:8080/",
          "height": 257
        },
        "outputId": "3e04a0c2-df92-44f2-fc0f-71be6bb78662"
      },
      "execution_count": null,
      "outputs": [
        {
          "output_type": "execute_result",
          "data": {
            "text/plain": [
              "   선택      순위  앨범이미지    곡정보 이동 링크  \\\n",
              "0 NaN   1  유지    NaN  곡 제목 정보 페이지   \n",
              "1 NaN  2  1상승    NaN  곡 제목 정보 페이지   \n",
              "2 NaN  3  1하강    NaN  곡 제목 정보 페이지   \n",
              "\n",
              "                                                 곡정보  듣기        추가  \\\n",
              "0                  Kitsch  IVE (아이브)  외  |  I've IVE  듣기  재생목록에 추가   \n",
              "1              Ditto  NewJeans  외  |  NewJeans 'OMG'  듣기  재생목록에 추가   \n",
              "2  CHRISTIAN  Zior Park  외  |  WHERE DOES SASQUAT...  듣기  재생목록에 추가   \n",
              "\n",
              "           담기    다운        뮤비                    더보기  \n",
              "0  플레이리스트에 담기  다운로드  뮤직비디오 보기  더보기  공유하기/음악나누기  선물하기  \n",
              "1  플레이리스트에 담기  다운로드  뮤직비디오 보기  더보기  공유하기/음악나누기  선물하기  \n",
              "2  플레이리스트에 담기  다운로드  뮤직비디오 보기  더보기  공유하기/음악나누기  선물하기  "
            ],
            "text/html": [
              "\n",
              "  <div id=\"df-c90a5ccf-4a97-466b-834f-59e53ad3dc59\">\n",
              "    <div class=\"colab-df-container\">\n",
              "      <div>\n",
              "<style scoped>\n",
              "    .dataframe tbody tr th:only-of-type {\n",
              "        vertical-align: middle;\n",
              "    }\n",
              "\n",
              "    .dataframe tbody tr th {\n",
              "        vertical-align: top;\n",
              "    }\n",
              "\n",
              "    .dataframe thead th {\n",
              "        text-align: right;\n",
              "    }\n",
              "</style>\n",
              "<table border=\"1\" class=\"dataframe\">\n",
              "  <thead>\n",
              "    <tr style=\"text-align: right;\">\n",
              "      <th></th>\n",
              "      <th>선택</th>\n",
              "      <th>순위</th>\n",
              "      <th>앨범이미지</th>\n",
              "      <th>곡정보 이동 링크</th>\n",
              "      <th>곡정보</th>\n",
              "      <th>듣기</th>\n",
              "      <th>추가</th>\n",
              "      <th>담기</th>\n",
              "      <th>다운</th>\n",
              "      <th>뮤비</th>\n",
              "      <th>더보기</th>\n",
              "    </tr>\n",
              "  </thead>\n",
              "  <tbody>\n",
              "    <tr>\n",
              "      <th>0</th>\n",
              "      <td>NaN</td>\n",
              "      <td>1  유지</td>\n",
              "      <td>NaN</td>\n",
              "      <td>곡 제목 정보 페이지</td>\n",
              "      <td>Kitsch  IVE (아이브)  외  |  I've IVE</td>\n",
              "      <td>듣기</td>\n",
              "      <td>재생목록에 추가</td>\n",
              "      <td>플레이리스트에 담기</td>\n",
              "      <td>다운로드</td>\n",
              "      <td>뮤직비디오 보기</td>\n",
              "      <td>더보기  공유하기/음악나누기  선물하기</td>\n",
              "    </tr>\n",
              "    <tr>\n",
              "      <th>1</th>\n",
              "      <td>NaN</td>\n",
              "      <td>2  1상승</td>\n",
              "      <td>NaN</td>\n",
              "      <td>곡 제목 정보 페이지</td>\n",
              "      <td>Ditto  NewJeans  외  |  NewJeans 'OMG'</td>\n",
              "      <td>듣기</td>\n",
              "      <td>재생목록에 추가</td>\n",
              "      <td>플레이리스트에 담기</td>\n",
              "      <td>다운로드</td>\n",
              "      <td>뮤직비디오 보기</td>\n",
              "      <td>더보기  공유하기/음악나누기  선물하기</td>\n",
              "    </tr>\n",
              "    <tr>\n",
              "      <th>2</th>\n",
              "      <td>NaN</td>\n",
              "      <td>3  1하강</td>\n",
              "      <td>NaN</td>\n",
              "      <td>곡 제목 정보 페이지</td>\n",
              "      <td>CHRISTIAN  Zior Park  외  |  WHERE DOES SASQUAT...</td>\n",
              "      <td>듣기</td>\n",
              "      <td>재생목록에 추가</td>\n",
              "      <td>플레이리스트에 담기</td>\n",
              "      <td>다운로드</td>\n",
              "      <td>뮤직비디오 보기</td>\n",
              "      <td>더보기  공유하기/음악나누기  선물하기</td>\n",
              "    </tr>\n",
              "  </tbody>\n",
              "</table>\n",
              "</div>\n",
              "      <button class=\"colab-df-convert\" onclick=\"convertToInteractive('df-c90a5ccf-4a97-466b-834f-59e53ad3dc59')\"\n",
              "              title=\"Convert this dataframe to an interactive table.\"\n",
              "              style=\"display:none;\">\n",
              "        \n",
              "  <svg xmlns=\"http://www.w3.org/2000/svg\" height=\"24px\"viewBox=\"0 0 24 24\"\n",
              "       width=\"24px\">\n",
              "    <path d=\"M0 0h24v24H0V0z\" fill=\"none\"/>\n",
              "    <path d=\"M18.56 5.44l.94 2.06.94-2.06 2.06-.94-2.06-.94-.94-2.06-.94 2.06-2.06.94zm-11 1L8.5 8.5l.94-2.06 2.06-.94-2.06-.94L8.5 2.5l-.94 2.06-2.06.94zm10 10l.94 2.06.94-2.06 2.06-.94-2.06-.94-.94-2.06-.94 2.06-2.06.94z\"/><path d=\"M17.41 7.96l-1.37-1.37c-.4-.4-.92-.59-1.43-.59-.52 0-1.04.2-1.43.59L10.3 9.45l-7.72 7.72c-.78.78-.78 2.05 0 2.83L4 21.41c.39.39.9.59 1.41.59.51 0 1.02-.2 1.41-.59l7.78-7.78 2.81-2.81c.8-.78.8-2.07 0-2.86zM5.41 20L4 18.59l7.72-7.72 1.47 1.35L5.41 20z\"/>\n",
              "  </svg>\n",
              "      </button>\n",
              "      \n",
              "  <style>\n",
              "    .colab-df-container {\n",
              "      display:flex;\n",
              "      flex-wrap:wrap;\n",
              "      gap: 12px;\n",
              "    }\n",
              "\n",
              "    .colab-df-convert {\n",
              "      background-color: #E8F0FE;\n",
              "      border: none;\n",
              "      border-radius: 50%;\n",
              "      cursor: pointer;\n",
              "      display: none;\n",
              "      fill: #1967D2;\n",
              "      height: 32px;\n",
              "      padding: 0 0 0 0;\n",
              "      width: 32px;\n",
              "    }\n",
              "\n",
              "    .colab-df-convert:hover {\n",
              "      background-color: #E2EBFA;\n",
              "      box-shadow: 0px 1px 2px rgba(60, 64, 67, 0.3), 0px 1px 3px 1px rgba(60, 64, 67, 0.15);\n",
              "      fill: #174EA6;\n",
              "    }\n",
              "\n",
              "    [theme=dark] .colab-df-convert {\n",
              "      background-color: #3B4455;\n",
              "      fill: #D2E3FC;\n",
              "    }\n",
              "\n",
              "    [theme=dark] .colab-df-convert:hover {\n",
              "      background-color: #434B5C;\n",
              "      box-shadow: 0px 1px 3px 1px rgba(0, 0, 0, 0.15);\n",
              "      filter: drop-shadow(0px 1px 2px rgba(0, 0, 0, 0.3));\n",
              "      fill: #FFFFFF;\n",
              "    }\n",
              "  </style>\n",
              "\n",
              "      <script>\n",
              "        const buttonEl =\n",
              "          document.querySelector('#df-c90a5ccf-4a97-466b-834f-59e53ad3dc59 button.colab-df-convert');\n",
              "        buttonEl.style.display =\n",
              "          google.colab.kernel.accessAllowed ? 'block' : 'none';\n",
              "\n",
              "        async function convertToInteractive(key) {\n",
              "          const element = document.querySelector('#df-c90a5ccf-4a97-466b-834f-59e53ad3dc59');\n",
              "          const dataTable =\n",
              "            await google.colab.kernel.invokeFunction('convertToInteractive',\n",
              "                                                     [key], {});\n",
              "          if (!dataTable) return;\n",
              "\n",
              "          const docLinkHtml = 'Like what you see? Visit the ' +\n",
              "            '<a target=\"_blank\" href=https://colab.research.google.com/notebooks/data_table.ipynb>data table notebook</a>'\n",
              "            + ' to learn more about interactive tables.';\n",
              "          element.innerHTML = '';\n",
              "          dataTable['output_type'] = 'display_data';\n",
              "          await google.colab.output.renderOutput(dataTable, element);\n",
              "          const docLink = document.createElement('div');\n",
              "          docLink.innerHTML = docLinkHtml;\n",
              "          element.appendChild(docLink);\n",
              "        }\n",
              "      </script>\n",
              "    </div>\n",
              "  </div>\n",
              "  "
            ]
          },
          "metadata": {},
          "execution_count": 10
        }
      ]
    },
    {
      "cell_type": "code",
      "source": [],
      "metadata": {
        "id": "aC6nYgxv0J4u"
      },
      "execution_count": null,
      "outputs": []
    },
    {
      "cell_type": "code",
      "source": [],
      "metadata": {
        "id": "UgCu-yx9QNH0"
      },
      "execution_count": null,
      "outputs": []
    }
  ]
}