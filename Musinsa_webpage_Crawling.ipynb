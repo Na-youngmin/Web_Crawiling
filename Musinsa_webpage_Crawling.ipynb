{
  "nbformat": 4,
  "nbformat_minor": 0,
  "metadata": {
    "colab": {
      "provenance": [],
      "include_colab_link": true
    },
    "kernelspec": {
      "name": "python3",
      "display_name": "Python 3"
    },
    "language_info": {
      "name": "python"
    }
  },
  "cells": [
    {
      "cell_type": "markdown",
      "metadata": {
        "id": "view-in-github",
        "colab_type": "text"
      },
      "source": [
        "<a href=\"https://colab.research.google.com/github/Na-youngmin/Web_Crawiling/blob/main/Musinsa_webpage_Crawling.ipynb\" target=\"_parent\"><img src=\"https://colab.research.google.com/assets/colab-badge.svg\" alt=\"Open In Colab\"/></a>"
      ]
    },
    {
      "cell_type": "markdown",
      "source": [
        "# 무신사 웹페이지 크롤링"
      ],
      "metadata": {
        "id": "S_cYboCAbrYY"
      }
    },
    {
      "cell_type": "code",
      "source": [
        "import requests\n",
        "from bs4 import BeautifulSoup\n",
        "\n",
        "url_musinsa = \"https://www.musinsa.com/app/goods/2953563\"\n",
        "headers = {\"referer\":\"https://www.musinsa.com/\",\n",
        "           \"origin\":\"https://www.musinsa.com/\",\n",
        "           \"user-agent\":\"Mozilla/5.0 (Windows NT 10.0; Win64; x64) AppleWebKit/537.36 (KHTML, like Gecko) Chrome/111.0.0.0 Safari/537.36\"}"
      ],
      "metadata": {
        "id": "bTPcoMZmZnmZ"
      },
      "execution_count": null,
      "outputs": []
    },
    {
      "cell_type": "code",
      "source": [
        "response = requests.get(url_musinsa, headers=headers)"
      ],
      "metadata": {
        "id": "2pHOMnRKQAvg"
      },
      "execution_count": null,
      "outputs": []
    },
    {
      "cell_type": "code",
      "source": [
        "print(response.text)"
      ],
      "metadata": {
        "id": "CeS2TOjFb9E3"
      },
      "execution_count": null,
      "outputs": []
    },
    {
      "cell_type": "code",
      "source": [],
      "metadata": {
        "id": "HOU0aj5jcC7X"
      },
      "execution_count": null,
      "outputs": []
    },
    {
      "cell_type": "markdown",
      "source": [
        "```python\n",
        "import time\n",
        "import requests\n",
        "from bs4 import BeautifulSoup\n",
        "\n",
        "url = \"https://www.musinsa.com/app/goods/2953563\"\n",
        "headers = {\"referer\":\"https://www.musinsa.com/\",\n",
        "           \"origin\":\"https://www.musinsa.com\",\n",
        "           \"user-agent\":\"Mozilla/5.0 (Windows NT 10.0; Win64; x64) AppleWebKit/537.36 (KHTML, like Gecko) Chrome/111.0.0.0 Safari/537.36\"}\n",
        "```"
      ],
      "metadata": {
        "id": "2KnudL460Hd9"
      }
    },
    {
      "cell_type": "markdown",
      "source": [
        "https://codebeautify.org/htmlviewer"
      ],
      "metadata": {
        "id": "nC_7lbPy0QRF"
      }
    },
    {
      "cell_type": "markdown",
      "source": [
        "```python\n",
        "_url = \"https://goods.musinsa.com/api/goods/v2/review/goods/list?\"\n",
        "_url += \"similarNo=0\"\n",
        "_url += \"&sort=new\"\n",
        "_url += \"&selectedSimilarNo=2953563\"\n",
        "_url += \"&page=1\"\n",
        "_url += \"&goodsNo=2953563\"\n",
        "_url += \"&_=16807086252\"\n",
        "```"
      ],
      "metadata": {
        "id": "7gqe-ZzM0KSA"
      }
    },
    {
      "cell_type": "markdown",
      "source": [
        "review-list  \n",
        "| review-profile__name  \n",
        "| review-profile__date  \n",
        "| review-profile__information  \n",
        "| | review-profile__body_information  \n",
        "| review-contents  \n",
        "| | review-contents__text  \n",
        "| review-evaluation  \n",
        "| | review-evaluation__list  \n",
        "| | | li  "
      ],
      "metadata": {
        "id": "wb7H0gxX0UKq"
      }
    },
    {
      "cell_type": "markdown",
      "source": [
        "```python\n",
        "reviews = soup.select(\".review-list\")\n",
        "\n",
        "for review in reviews:\n",
        "  name = review.select_one(\".review-profile__name\").text\n",
        "  date = review.select_one(\".review-profile__date\").text\n",
        "  body_information = review.select_one(\".review-profile__body_information\").text if review.select_one(\".review-profile__body_information\") else \"\"\n",
        "  text = review.select_one(\" .review-contents__text\").text\n",
        "  evaluation = review.select_one(\".review-evaluation__list\").text if review.select_one(\".review-evaluation__list\") else \"\"\n",
        "  print(name, date, body_information)\n",
        "  print(text)\n",
        "  print(evaluation)\n",
        "```"
      ],
      "metadata": {
        "id": "Tyy-vuuT0V1u"
      }
    },
    {
      "cell_type": "code",
      "source": [],
      "metadata": {
        "id": "aC6nYgxv0J4u"
      },
      "execution_count": null,
      "outputs": []
    }
  ]
}